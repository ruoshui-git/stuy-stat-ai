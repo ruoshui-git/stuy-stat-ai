{
 "metadata": {
  "language_info": {
   "codemirror_mode": {
    "name": "ipython",
    "version": 3
   },
   "file_extension": ".py",
   "mimetype": "text/x-python",
   "name": "python",
   "nbconvert_exporter": "python",
   "pygments_lexer": "ipython3",
   "version": "3.9.1-final"
  },
  "orig_nbformat": 2,
  "kernelspec": {
   "name": "python3",
   "display_name": "Python 3.9.1 64-bit",
   "metadata": {
    "interpreter": {
     "hash": "63e7af83d5b51c422d7aef2003a40d522e577443b8762b6929b2521906b3c894"
    }
   }
  }
 },
 "nbformat": 4,
 "nbformat_minor": 2,
 "cells": [
  {
   "source": [
    "10**80 (num particles in universe) monkeys\n",
    "\n",
    "They've been typing for 14 billion years\n",
    "\n",
    "Each monkey has 100 keys (letters) available\n",
    "\n",
    "Each phrase by a monkey is unique\n",
    "\n",
    "A phrase of n chars takes 1/millionth second\n",
    "\n",
    "Find max n such that by now they've typed possible combination"
   ],
   "cell_type": "markdown",
   "metadata": {}
  },
  {
   "cell_type": "code",
   "execution_count": 1,
   "metadata": {},
   "outputs": [],
   "source": [
    "universe_in_sec = 4.41504e+17\n",
    "num_monkeys = 10**80\n",
    "phrases_by_a_monkey = universe_in_sec * 1e6\n",
    "phrases_by_all_monkeys = phrases_by_a_monkey * num_monkeys\n",
    "num_keys = 100"
   ]
  },
  {
   "cell_type": "code",
   "execution_count": 9,
   "metadata": {},
   "outputs": [
    {
     "output_type": "execute_result",
     "data": {
      "text/plain": [
       "51.8224673213068"
      ]
     },
     "metadata": {},
     "execution_count": 9
    }
   ],
   "source": [
    "import math\n",
    "\n",
    "# base = num_keys;\n",
    "math.log(phrases_by_all_monkeys, num_keys)"
   ]
  }
 ]
}