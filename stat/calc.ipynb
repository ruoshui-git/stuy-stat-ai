{
 "metadata": {
  "language_info": {
   "codemirror_mode": {
    "name": "ipython",
    "version": 3
   },
   "file_extension": ".py",
   "mimetype": "text/x-python",
   "name": "python",
   "nbconvert_exporter": "python",
   "pygments_lexer": "ipython3",
   "version": "3.9.1-final"
  },
  "orig_nbformat": 2,
  "kernelspec": {
   "name": "python3",
   "display_name": "Python 3.9.1 64-bit",
   "metadata": {
    "interpreter": {
     "hash": "63e7af83d5b51c422d7aef2003a40d522e577443b8762b6929b2521906b3c894"
    }
   }
  }
 },
 "nbformat": 4,
 "nbformat_minor": 2,
 "cells": [
  {
   "cell_type": "code",
   "execution_count": 12,
   "metadata": {},
   "outputs": [],
   "source": [
    "mean = .15\n",
    "stdev = (0.15 * 0.85 / 1540)**0.5\n"
   ]
  },
  {
   "cell_type": "code",
   "execution_count": 4,
   "metadata": {},
   "outputs": [
    {
     "output_type": "execute_result",
     "data": {
      "text/plain": [
       "1309.0"
      ]
     },
     "metadata": {},
     "execution_count": 4
    }
   ],
   "source": [
    "n = 1540\n",
    "p = 0.15\n",
    "n * p\n",
    "n * (1-p)"
   ]
  },
  {
   "cell_type": "code",
   "execution_count": 14,
   "metadata": {},
   "outputs": [
    {
     "output_type": "execute_result",
     "data": {
      "text/plain": [
       "0.9720536262077394"
      ]
     },
     "metadata": {},
     "execution_count": 14
    }
   ],
   "source": [
    "from scipy.stats import norm\n",
    "# from scipy.stats import norm\n",
    "# import matplotlib.pyplot as plt\n",
    "norm.cdf(.17, loc=mean, scale=stdev) - norm.cdf(.13, loc=mean, scale=stdev)\n",
    "# fig, ax = plt.subplots(1, 1)\n",
    "# # print(norm.__doc__)"
   ]
  }
 ]
}